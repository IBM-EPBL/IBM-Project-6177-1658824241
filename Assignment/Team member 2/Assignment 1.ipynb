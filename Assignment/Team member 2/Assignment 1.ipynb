{
 "cells": [
  {
   "cell_type": "markdown",
   "metadata": {
    "papermill": {
     "duration": 0.020505,
     "end_time": "2020-12-26T10:56:29.905123",
     "exception": false,
     "start_time": "2020-12-26T10:56:29.884618",
     "status": "completed"
    },
    "tags": []
   },
   "source": [
    "## Exercises\n",
    "\n",
    "Answer the questions or complete the tasks outlined in bold below, use the specific method described if applicable."
   ]
  },
  {
   "cell_type": "markdown",
   "metadata": {
    "papermill": {
     "duration": 0.0185,
     "end_time": "2020-12-26T10:56:29.942643",
     "exception": false,
     "start_time": "2020-12-26T10:56:29.924143",
     "status": "completed"
    },
    "tags": []
   },
   "source": [
    "** What is 7 to the power of 4?**"
   ]
  },
  {
   "cell_type": "code",
   "execution_count": 1,
   "metadata": {
    "execution": {
     "iopub.execute_input": "2020-12-26T10:56:29.987559Z",
     "iopub.status.busy": "2020-12-26T10:56:29.986552Z",
     "iopub.status.idle": "2020-12-26T10:56:29.991259Z",
     "shell.execute_reply": "2020-12-26T10:56:29.990572Z"
    },
    "papermill": {
     "duration": 0.030073,
     "end_time": "2020-12-26T10:56:29.991412",
     "exception": false,
     "start_time": "2020-12-26T10:56:29.961339",
     "status": "completed"
    },
    "tags": []
   },
   "outputs": [
    {
     "name": "stdout",
     "output_type": "stream",
     "text": [
      "2401\n"
     ]
    }
   ],
   "source": [
    "print(7**4);\n"
   ]
  },
  {
   "cell_type": "markdown",
   "metadata": {
    "papermill": {
     "duration": 0.019101,
     "end_time": "2020-12-26T10:56:30.030703",
     "exception": false,
     "start_time": "2020-12-26T10:56:30.011602",
     "status": "completed"
    },
    "tags": []
   },
   "source": [
    "** Split this string:**\n",
    "\n",
    "    s = \"Hi there Sam!\"\n",
    "    \n",
    "**into a list. **"
   ]
  },
  {
   "cell_type": "code",
   "execution_count": 2,
   "metadata": {
    "execution": {
     "iopub.execute_input": "2020-12-26T10:56:30.075438Z",
     "iopub.status.busy": "2020-12-26T10:56:30.074756Z",
     "iopub.status.idle": "2020-12-26T10:56:30.078636Z",
     "shell.execute_reply": "2020-12-26T10:56:30.079101Z"
    },
    "papermill": {
     "duration": 0.029057,
     "end_time": "2020-12-26T10:56:30.079264",
     "exception": false,
     "start_time": "2020-12-26T10:56:30.050207",
     "status": "completed"
    },
    "tags": []
   },
   "outputs": [
    {
     "name": "stdout",
     "output_type": "stream",
     "text": [
      "['Hi', 'there', 'Sam!']\n"
     ]
    }
   ],
   "source": [
    "s=\"Hi there Sam!\"\n",
    "s=s.split()\n",
    "print(s);"
   ]
  },
  {
   "cell_type": "code",
   "execution_count": null,
   "metadata": {
    "papermill": {
     "duration": 0.019386,
     "end_time": "2020-12-26T10:56:30.118431",
     "exception": false,
     "start_time": "2020-12-26T10:56:30.099045",
     "status": "completed"
    },
    "tags": []
   },
   "outputs": [],
   "source": []
  },
  {
   "cell_type": "markdown",
   "metadata": {
    "papermill": {
     "duration": 0.019311,
     "end_time": "2020-12-26T10:56:30.157704",
     "exception": false,
     "start_time": "2020-12-26T10:56:30.138393",
     "status": "completed"
    },
    "tags": []
   },
   "source": [
    "** Given the variables:**\n",
    "\n",
    "    planet = \"Earth\"\n",
    "    diameter = 12742\n",
    "\n",
    "** Use .format() to print the following string: **\n",
    "\n",
    "    The diameter of Earth is 12742 kilometers."
   ]
  },
  {
   "cell_type": "code",
   "execution_count": 3,
   "metadata": {
    "execution": {
     "iopub.execute_input": "2020-12-26T10:56:30.202484Z",
     "iopub.status.busy": "2020-12-26T10:56:30.201750Z",
     "iopub.status.idle": "2020-12-26T10:56:30.205083Z",
     "shell.execute_reply": "2020-12-26T10:56:30.204437Z"
    },
    "papermill": {
     "duration": 0.027495,
     "end_time": "2020-12-26T10:56:30.205212",
     "exception": false,
     "start_time": "2020-12-26T10:56:30.177717",
     "status": "completed"
    },
    "tags": []
   },
   "outputs": [],
   "source": [
    "planet = \"Earth\"\n",
    "diameter = 12742"
   ]
  },
  {
   "cell_type": "code",
   "execution_count": 4,
   "metadata": {
    "execution": {
     "iopub.execute_input": "2020-12-26T10:56:30.251098Z",
     "iopub.status.busy": "2020-12-26T10:56:30.250318Z",
     "iopub.status.idle": "2020-12-26T10:56:30.253502Z",
     "shell.execute_reply": "2020-12-26T10:56:30.254286Z"
    },
    "papermill": {
     "duration": 0.029475,
     "end_time": "2020-12-26T10:56:30.254549",
     "exception": false,
     "start_time": "2020-12-26T10:56:30.225074",
     "status": "completed"
    },
    "tags": []
   },
   "outputs": [
    {
     "name": "stdout",
     "output_type": "stream",
     "text": [
      "The diameter of Earth is 12742 kilometers.\n"
     ]
    }
   ],
   "source": [
    "planet = \"Earth\"\n",
    "diameter = 12742\n",
    "print( 'The diameter of {} is {} kilometers.' .format(planet,diameter));"
   ]
  },
  {
   "cell_type": "markdown",
   "metadata": {
    "papermill": {
     "duration": 0.020369,
     "end_time": "2020-12-26T10:56:30.296322",
     "exception": false,
     "start_time": "2020-12-26T10:56:30.275953",
     "status": "completed"
    },
    "tags": []
   },
   "source": [
    "** Given this nested list, use indexing to grab the word \"hello\" **"
   ]
  },
  {
   "cell_type": "code",
   "execution_count": 5,
   "metadata": {
    "execution": {
     "iopub.execute_input": "2020-12-26T10:56:30.344139Z",
     "iopub.status.busy": "2020-12-26T10:56:30.343129Z",
     "iopub.status.idle": "2020-12-26T10:56:30.346773Z",
     "shell.execute_reply": "2020-12-26T10:56:30.346189Z"
    },
    "papermill": {
     "duration": 0.029729,
     "end_time": "2020-12-26T10:56:30.346918",
     "exception": false,
     "start_time": "2020-12-26T10:56:30.317189",
     "status": "completed"
    },
    "tags": []
   },
   "outputs": [],
   "source": [
    "lst = [1,2,[3,4],[5,[100,200,['hello']],23,11],1,7]"
   ]
  },
  {
   "cell_type": "code",
   "execution_count": 6,
   "metadata": {
    "execution": {
     "iopub.execute_input": "2020-12-26T10:56:30.395890Z",
     "iopub.status.busy": "2020-12-26T10:56:30.395103Z",
     "iopub.status.idle": "2020-12-26T10:56:30.399004Z",
     "shell.execute_reply": "2020-12-26T10:56:30.398350Z"
    },
    "papermill": {
     "duration": 0.031461,
     "end_time": "2020-12-26T10:56:30.399127",
     "exception": false,
     "start_time": "2020-12-26T10:56:30.367666",
     "status": "completed"
    },
    "tags": []
   },
   "outputs": [
    {
     "name": "stdout",
     "output_type": "stream",
     "text": [
      "['hello']\n"
     ]
    }
   ],
   "source": [
    "lst = [1,2,[3,4],[5,[100,200,['hello']],23,11],1,7]\n",
    "a=lst[3][1][2];\n",
    "print(a)"
   ]
  },
  {
   "cell_type": "markdown",
   "metadata": {
    "papermill": {
     "duration": 0.02093,
     "end_time": "2020-12-26T10:56:30.441273",
     "exception": false,
     "start_time": "2020-12-26T10:56:30.420343",
     "status": "completed"
    },
    "tags": []
   },
   "source": [
    "** Given this nested dictionary grab the word \"hello\". Be prepared, this will be annoying/tricky **"
   ]
  },
  {
   "cell_type": "code",
   "execution_count": 7,
   "metadata": {
    "execution": {
     "iopub.execute_input": "2020-12-26T10:56:30.491725Z",
     "iopub.status.busy": "2020-12-26T10:56:30.490844Z",
     "iopub.status.idle": "2020-12-26T10:56:30.493990Z",
     "shell.execute_reply": "2020-12-26T10:56:30.493329Z"
    },
    "papermill": {
     "duration": 0.031052,
     "end_time": "2020-12-26T10:56:30.494108",
     "exception": false,
     "start_time": "2020-12-26T10:56:30.463056",
     "status": "completed"
    },
    "tags": []
   },
   "outputs": [],
   "source": [
    "d = {'k1':[1,2,3,{'tricky':['oh','man','inception',{'target':[1,2,3,'hello']}]}]}"
   ]
  },
  {
   "cell_type": "code",
   "execution_count": 8,
   "metadata": {
    "execution": {
     "iopub.execute_input": "2020-12-26T10:56:30.545272Z",
     "iopub.status.busy": "2020-12-26T10:56:30.544405Z",
     "iopub.status.idle": "2020-12-26T10:56:30.549199Z",
     "shell.execute_reply": "2020-12-26T10:56:30.548463Z"
    },
    "papermill": {
     "duration": 0.033573,
     "end_time": "2020-12-26T10:56:30.549339",
     "exception": false,
     "start_time": "2020-12-26T10:56:30.515766",
     "status": "completed"
    },
    "tags": []
   },
   "outputs": [
    {
     "name": "stdout",
     "output_type": "stream",
     "text": [
      "hello\n"
     ]
    }
   ],
   "source": [
    "d = {'k1':[1,2,3,{'tricky':['oh','man','inception',{'target':[1,2,3,'hello']}]}]}\n",
    "print(d['k1'][3][\"tricky\"][3]['target'][3])"
   ]
  },
  {
   "cell_type": "markdown",
   "metadata": {
    "papermill": {
     "duration": 0.021177,
     "end_time": "2020-12-26T10:56:30.593222",
     "exception": false,
     "start_time": "2020-12-26T10:56:30.572045",
     "status": "completed"
    },
    "tags": []
   },
   "source": [
    "** What is the main difference between a tuple and a list? **"
   ]
  },
  {
   "cell_type": "code",
   "execution_count": 9,
   "metadata": {
    "execution": {
     "iopub.execute_input": "2020-12-26T10:56:30.642282Z",
     "iopub.status.busy": "2020-12-26T10:56:30.641219Z",
     "iopub.status.idle": "2020-12-26T10:56:30.644563Z",
     "shell.execute_reply": "2020-12-26T10:56:30.645043Z"
    },
    "papermill": {
     "duration": 0.030445,
     "end_time": "2020-12-26T10:56:30.645194",
     "exception": false,
     "start_time": "2020-12-26T10:56:30.614749",
     "status": "completed"
    },
    "tags": []
   },
   "outputs": [],
   "source": [
    "# Tuple is immutable\n",
    "#Tuples operations are safe.\n",
    "#Tuples consumes less memory.\n"
   ]
  },
  {
   "cell_type": "markdown",
   "metadata": {
    "papermill": {
     "duration": 0.021833,
     "end_time": "2020-12-26T10:56:30.690274",
     "exception": false,
     "start_time": "2020-12-26T10:56:30.668441",
     "status": "completed"
    },
    "tags": []
   },
   "source": [
    "** Create a function that grabs the email website domain from a string in the form: **\n",
    "\n",
    "    user@domain.com\n",
    "    \n",
    "**So for example, passing \"user@domain.com\" would return: domain.com**"
   ]
  },
  {
   "cell_type": "code",
   "execution_count": 10,
   "metadata": {
    "execution": {
     "iopub.execute_input": "2020-12-26T10:56:30.740517Z",
     "iopub.status.busy": "2020-12-26T10:56:30.739824Z",
     "iopub.status.idle": "2020-12-26T10:56:30.779601Z",
     "shell.execute_reply": "2020-12-26T10:56:30.778841Z"
    },
    "papermill": {
     "duration": 0.067739,
     "end_time": "2020-12-26T10:56:30.779718",
     "exception": false,
     "start_time": "2020-12-26T10:56:30.711979",
     "status": "completed"
    },
    "tags": []
   },
   "outputs": [
    {
     "ename": "StdinNotImplementedError",
     "evalue": "raw_input was called, but this frontend does not support input requests.",
     "output_type": "error",
     "traceback": [
      "\u001b[0;31m---------------------------------------------------------------------------\u001b[0m",
      "\u001b[0;31mStdinNotImplementedError\u001b[0m                  Traceback (most recent call last)",
      "\u001b[0;32m<ipython-input-10-4a1962ea830c>\u001b[0m in \u001b[0;36m<module>\u001b[0;34m\u001b[0m\n\u001b[1;32m      2\u001b[0m     \u001b[0mprint\u001b[0m\u001b[0;34m(\u001b[0m\u001b[0;34m\"Your domain is: \"\u001b[0m \u001b[0;34m+\u001b[0m \u001b[0memail\u001b[0m\u001b[0;34m.\u001b[0m\u001b[0msplit\u001b[0m\u001b[0;34m(\u001b[0m\u001b[0;34m'@'\u001b[0m\u001b[0;34m)\u001b[0m\u001b[0;34m[\u001b[0m\u001b[0;34m-\u001b[0m\u001b[0;36m1\u001b[0m\u001b[0;34m]\u001b[0m\u001b[0;34m)\u001b[0m\u001b[0;34m\u001b[0m\u001b[0;34m\u001b[0m\u001b[0m\n\u001b[1;32m      3\u001b[0m \u001b[0;34m\u001b[0m\u001b[0m\n\u001b[0;32m----> 4\u001b[0;31m \u001b[0memail\u001b[0m \u001b[0;34m=\u001b[0m \u001b[0minput\u001b[0m\u001b[0;34m(\u001b[0m\u001b[0;34m\"Please enter your email: >\"\u001b[0m\u001b[0;34m)\u001b[0m\u001b[0;34m\u001b[0m\u001b[0;34m\u001b[0m\u001b[0m\n\u001b[0m\u001b[1;32m      5\u001b[0m \u001b[0mdomainGet\u001b[0m\u001b[0;34m(\u001b[0m\u001b[0memail\u001b[0m\u001b[0;34m)\u001b[0m\u001b[0;34m\u001b[0m\u001b[0;34m\u001b[0m\u001b[0m\n",
      "\u001b[0;32m/opt/conda/lib/python3.7/site-packages/ipykernel/kernelbase.py\u001b[0m in \u001b[0;36mraw_input\u001b[0;34m(self, prompt)\u001b[0m\n\u001b[1;32m    853\u001b[0m         \u001b[0;32mif\u001b[0m \u001b[0;32mnot\u001b[0m \u001b[0mself\u001b[0m\u001b[0;34m.\u001b[0m\u001b[0m_allow_stdin\u001b[0m\u001b[0;34m:\u001b[0m\u001b[0;34m\u001b[0m\u001b[0;34m\u001b[0m\u001b[0m\n\u001b[1;32m    854\u001b[0m             raise StdinNotImplementedError(\n\u001b[0;32m--> 855\u001b[0;31m                 \u001b[0;34m\"raw_input was called, but this frontend does not support input requests.\"\u001b[0m\u001b[0;34m\u001b[0m\u001b[0;34m\u001b[0m\u001b[0m\n\u001b[0m\u001b[1;32m    856\u001b[0m             )\n\u001b[1;32m    857\u001b[0m         return self._input_request(str(prompt),\n",
      "\u001b[0;31mStdinNotImplementedError\u001b[0m: raw_input was called, but this frontend does not support input requests."
     ]
    }
   ],
   "source": [
    "def domainGet(email):\n",
    "    print(\"Your domain is: \" + email.split('@')[-1])\n",
    "\n",
    "email = input(\"Please enter your email: >\")\n",
    "domainGet(email)"
   ]
  },
  {
   "cell_type": "code",
   "execution_count": 11,
   "metadata": {
    "execution": {
     "iopub.execute_input": "2020-12-26T10:56:30.831781Z",
     "iopub.status.busy": "2020-12-26T10:56:30.830941Z",
     "iopub.status.idle": "2020-12-26T10:56:30.834390Z",
     "shell.execute_reply": "2020-12-26T10:56:30.834922Z"
    },
    "papermill": {
     "duration": 0.031956,
     "end_time": "2020-12-26T10:56:30.835069",
     "exception": false,
     "start_time": "2020-12-26T10:56:30.803113",
     "status": "completed"
    },
    "tags": []
   },
   "outputs": [
    {
     "name": "stdout",
     "output_type": "stream",
     "text": [
      "Your domain is: domain.com\n"
     ]
    }
   ],
   "source": [
    "domainGet('user@domain.com')"
   ]
  },
  {
   "cell_type": "markdown",
   "metadata": {
    "papermill": {
     "duration": 0.022609,
     "end_time": "2020-12-26T10:56:30.880878",
     "exception": false,
     "start_time": "2020-12-26T10:56:30.858269",
     "status": "completed"
    },
    "tags": []
   },
   "source": [
    "** Create a basic function that returns True if the word 'dog' is contained in the input string. Don't worry about edge cases like a punctuation being attached to the word dog, but do account for capitalization. **"
   ]
  },
  {
   "cell_type": "code",
   "execution_count": 12,
   "metadata": {
    "execution": {
     "iopub.execute_input": "2020-12-26T10:56:30.934802Z",
     "iopub.status.busy": "2020-12-26T10:56:30.933903Z",
     "iopub.status.idle": "2020-12-26T10:56:30.937736Z",
     "shell.execute_reply": "2020-12-26T10:56:30.937200Z"
    },
    "papermill": {
     "duration": 0.03411,
     "end_time": "2020-12-26T10:56:30.937874",
     "exception": false,
     "start_time": "2020-12-26T10:56:30.903764",
     "status": "completed"
    },
    "tags": []
   },
   "outputs": [
    {
     "name": "stdout",
     "output_type": "stream",
     "text": [
      "True\n"
     ]
    }
   ],
   "source": [
    "def findDog(st):\n",
    "    if 'dog' in st.lower():\n",
    "        print(\"True\")\n",
    "    else:\n",
    "        print(\"False\")\n",
    "\n",
    "st = \"Is there a dog here?\"\n",
    "findDog(st)"
   ]
  },
  {
   "cell_type": "code",
   "execution_count": 13,
   "metadata": {
    "execution": {
     "iopub.execute_input": "2020-12-26T10:56:30.991652Z",
     "iopub.status.busy": "2020-12-26T10:56:30.990845Z",
     "iopub.status.idle": "2020-12-26T10:56:30.994611Z",
     "shell.execute_reply": "2020-12-26T10:56:30.993942Z"
    },
    "papermill": {
     "duration": 0.032889,
     "end_time": "2020-12-26T10:56:30.994748",
     "exception": false,
     "start_time": "2020-12-26T10:56:30.961859",
     "status": "completed"
    },
    "tags": []
   },
   "outputs": [
    {
     "name": "stdout",
     "output_type": "stream",
     "text": [
      "True\n"
     ]
    }
   ],
   "source": [
    "findDog('Is there a dog here?')"
   ]
  },
  {
   "cell_type": "markdown",
   "metadata": {
    "papermill": {
     "duration": 0.023946,
     "end_time": "2020-12-26T10:56:31.042897",
     "exception": false,
     "start_time": "2020-12-26T10:56:31.018951",
     "status": "completed"
    },
    "tags": []
   },
   "source": [
    "** Create a function that counts the number of times the word \"dog\" occurs in a string. Again ignore edge cases. **"
   ]
  },
  {
   "cell_type": "code",
   "execution_count": 14,
   "metadata": {
    "execution": {
     "iopub.execute_input": "2020-12-26T10:56:31.099603Z",
     "iopub.status.busy": "2020-12-26T10:56:31.098529Z",
     "iopub.status.idle": "2020-12-26T10:56:31.102623Z",
     "shell.execute_reply": "2020-12-26T10:56:31.102065Z"
    },
    "papermill": {
     "duration": 0.035496,
     "end_time": "2020-12-26T10:56:31.102754",
     "exception": false,
     "start_time": "2020-12-26T10:56:31.067258",
     "status": "completed"
    },
    "tags": []
   },
   "outputs": [
    {
     "name": "stdout",
     "output_type": "stream",
     "text": [
      "1\n",
      "2\n"
     ]
    }
   ],
   "source": [
    "value = 'This dog runs faster than the other dog dude!';\n",
    "\n",
    "def countdogs(value):\n",
    "    count = 0\n",
    "    for word in value.lower().split():\n",
    "        if word == 'dog' or word == 'dogs':\n",
    "            count = count + 1\n",
    "            print(count)\n",
    "\n",
    "countdogs(value)"
   ]
  },
  {
   "cell_type": "markdown",
   "metadata": {
    "papermill": {
     "duration": 0.024748,
     "end_time": "2020-12-26T10:56:31.152502",
     "exception": false,
     "start_time": "2020-12-26T10:56:31.127754",
     "status": "completed"
    },
    "tags": []
   },
   "source": [
    "** Use lambda expressions and the filter() function to filter out words from a list that don't start with the letter 's'. For example:**\n",
    "\n",
    "    seq = ['soup','dog','salad','cat','great']\n",
    "\n",
    "**should be filtered down to:**\n",
    "\n",
    "    ['soup','salad']"
   ]
  },
  {
   "cell_type": "code",
   "execution_count": 15,
   "metadata": {
    "execution": {
     "iopub.execute_input": "2020-12-26T10:56:31.208475Z",
     "iopub.status.busy": "2020-12-26T10:56:31.207793Z",
     "iopub.status.idle": "2020-12-26T10:56:31.210620Z",
     "shell.execute_reply": "2020-12-26T10:56:31.211102Z"
    },
    "papermill": {
     "duration": 0.03368,
     "end_time": "2020-12-26T10:56:31.211274",
     "exception": false,
     "start_time": "2020-12-26T10:56:31.177594",
     "status": "completed"
    },
    "tags": []
   },
   "outputs": [],
   "source": [
    "seq = ['soup','dog','salad','cat','great']"
   ]
  },
  {
   "cell_type": "code",
   "execution_count": 16,
   "metadata": {
    "execution": {
     "iopub.execute_input": "2020-12-26T10:56:31.269565Z",
     "iopub.status.busy": "2020-12-26T10:56:31.268807Z",
     "iopub.status.idle": "2020-12-26T10:56:31.273769Z",
     "shell.execute_reply": "2020-12-26T10:56:31.273101Z"
    },
    "papermill": {
     "duration": 0.037544,
     "end_time": "2020-12-26T10:56:31.273894",
     "exception": false,
     "start_time": "2020-12-26T10:56:31.236350",
     "status": "completed"
    },
    "tags": []
   },
   "outputs": [
    {
     "data": {
      "text/plain": [
       "['dog', 'cat', 'great']"
      ]
     },
     "execution_count": 16,
     "metadata": {},
     "output_type": "execute_result"
    }
   ],
   "source": [
    "seq = ['soup','dog','salad','cat','great']\n",
    "list(filter(lambda word: word[0]!='s',seq))"
   ]
  },
  {
   "cell_type": "markdown",
   "metadata": {
    "papermill": {
     "duration": 0.025158,
     "end_time": "2020-12-26T10:56:31.324753",
     "exception": false,
     "start_time": "2020-12-26T10:56:31.299595",
     "status": "completed"
    },
    "tags": []
   },
   "source": [
    "### Final Problem\n",
    "**You are driving a little too fast, and a police officer stops you. Write a function\n",
    "  to return one of 3 possible results: \"No ticket\", \"Small ticket\", or \"Big Ticket\". \n",
    "  If your speed is 60 or less, the result is \"No Ticket\". If speed is between 61 \n",
    "  and 80 inclusive, the result is \"Small Ticket\". If speed is 81 or more, the result is \"Big    Ticket\". Unless it is your birthday (encoded as a boolean value in the parameters of the function) -- on your birthday, your speed can be 5 higher in all \n",
    "  cases. **"
   ]
  },
  {
   "cell_type": "code",
   "execution_count": 17,
   "metadata": {
    "execution": {
     "iopub.execute_input": "2020-12-26T10:56:31.381970Z",
     "iopub.status.busy": "2020-12-26T10:56:31.381294Z",
     "iopub.status.idle": "2020-12-26T10:56:31.384743Z",
     "shell.execute_reply": "2020-12-26T10:56:31.384030Z"
    },
    "papermill": {
     "duration": 0.033781,
     "end_time": "2020-12-26T10:56:31.384874",
     "exception": false,
     "start_time": "2020-12-26T10:56:31.351093",
     "status": "completed"
    },
    "tags": []
   },
   "outputs": [],
   "source": [
    "def caught_speeding(speed, is_birthday):\n",
    "    pass"
   ]
  },
  {
   "cell_type": "code",
   "execution_count": 18,
   "metadata": {
    "execution": {
     "iopub.execute_input": "2020-12-26T10:56:31.441737Z",
     "iopub.status.busy": "2020-12-26T10:56:31.441043Z",
     "iopub.status.idle": "2020-12-26T10:56:31.443662Z",
     "shell.execute_reply": "2020-12-26T10:56:31.444266Z"
    },
    "papermill": {
     "duration": 0.034192,
     "end_time": "2020-12-26T10:56:31.444450",
     "exception": false,
     "start_time": "2020-12-26T10:56:31.410258",
     "status": "completed"
    },
    "tags": []
   },
   "outputs": [],
   "source": [
    "caught_speeding(81,True)"
   ]
  },
  {
   "cell_type": "code",
   "execution_count": 19,
   "metadata": {
    "execution": {
     "iopub.execute_input": "2020-12-26T10:56:31.501767Z",
     "iopub.status.busy": "2020-12-26T10:56:31.501075Z",
     "iopub.status.idle": "2020-12-26T10:56:31.504473Z",
     "shell.execute_reply": "2020-12-26T10:56:31.503826Z"
    },
    "papermill": {
     "duration": 0.034277,
     "end_time": "2020-12-26T10:56:31.504593",
     "exception": false,
     "start_time": "2020-12-26T10:56:31.470316",
     "status": "completed"
    },
    "tags": []
   },
   "outputs": [],
   "source": [
    "caught_speeding(81,False)"
   ]
  },
  {
   "cell_type": "markdown",
   "metadata": {
    "papermill": {
     "duration": 0.025675,
     "end_time": "2020-12-26T10:56:31.556164",
     "exception": false,
     "start_time": "2020-12-26T10:56:31.530489",
     "status": "completed"
    },
    "tags": []
   },
   "source": [
    "# Great job!"
   ]
  }
 ],
 "metadata": {
  "kernelspec": {
   "display_name": "Python 3",
   "language": "python",
   "name": "python3"
  },
  "language_info": {
   "codemirror_mode": {
    "name": "ipython",
    "version": 3
   },
   "file_extension": ".py",
   "mimetype": "text/x-python",
   "name": "python",
   "nbconvert_exporter": "python",
   "pygments_lexer": "ipython3",
   "version": "3.7.6"
  },
  "papermill": {
   "duration": 6.818785,
   "end_time": "2020-12-26T10:56:31.690742",
   "environment_variables": {},
   "exception": null,
   "input_path": "__notebook__.ipynb",
   "output_path": "__notebook__.ipynb",
   "parameters": {},
   "start_time": "2020-12-26T10:56:24.871957",
   "version": "2.1.0"
  }
 },
 "nbformat": 4,
 "nbformat_minor": 4
}
